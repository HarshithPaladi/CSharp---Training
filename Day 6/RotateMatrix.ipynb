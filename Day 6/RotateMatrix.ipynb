{
 "cells": [
  {
   "attachments": {},
   "cell_type": "markdown",
   "metadata": {},
   "source": [
    "### Rotate a matrix by 90 degrees clockwise"
   ]
  },
  {
   "cell_type": "code",
   "execution_count": 3,
   "metadata": {
    "dotnet_interactive": {
     "language": "csharp"
    },
    "polyglot_notebook": {
     "kernelName": "csharp"
    }
   },
   "outputs": [],
   "source": [
    "class RotateMatrix\n",
    "{\n",
    "    public int[,] RotateMatrixClockwise(int[,] oldMatrix)\n",
    "    {\n",
    "        int[,] newMatrix = new int[oldMatrix.GetLength(1), oldMatrix.GetLength(0)];\n",
    "        int newColumn, newRow = 0;\n",
    "        for (int oldColumn = 0; oldColumn < oldMatrix.GetLength(1); oldColumn++)\n",
    "        {\n",
    "            newColumn = 0;\n",
    "            for (int oldRow = oldMatrix.GetLength(0) - 1; oldRow >= 0; oldRow--)\n",
    "            {\n",
    "                newMatrix[newRow, newColumn] = oldMatrix[oldRow, oldColumn];\n",
    "                newColumn++;\n",
    "            }\n",
    "            newRow++;\n",
    "        }\n",
    "        return newMatrix;\n",
    "    }\n",
    "}"
   ]
  },
  {
   "cell_type": "code",
   "execution_count": 5,
   "metadata": {
    "dotnet_interactive": {
     "language": "csharp"
    },
    "polyglot_notebook": {
     "kernelName": "csharp"
    }
   },
   "outputs": [
    {
     "name": "stdout",
     "output_type": "stream",
     "text": [
      "9 5 1 \n",
      "10 6 2 \n",
      "11 7 3 \n",
      "12 8 4 \n"
     ]
    }
   ],
   "source": [
    "        var rot = new RotateMatrix();\n",
    "        int[,] matrix = new int[3, 4] {  { 1, 2, 3, 4 },\n",
    "                                        { 5, 6, 7, 8 },\n",
    "                                        { 9, 10, 11, 12 } };\n",
    "        int[,] rotatedMatrix = rot.RotateMatrixClockwise(matrix);\n",
    "        for (int row = 0; row < rotatedMatrix.GetLength(0); row++)\n",
    "        {\n",
    "            for (int column = 0; column < rotatedMatrix.GetLength(1); column++)\n",
    "            {\n",
    "                Console.Write(rotatedMatrix[row, column] + \" \");\n",
    "            }\n",
    "            Console.WriteLine();\n",
    "        }"
   ]
  }
 ],
 "metadata": {
  "kernelspec": {
   "display_name": ".NET (C#)",
   "language": "C#",
   "name": ".net-csharp"
  },
  "language_info": {
   "name": "polyglot-notebook"
  },
  "polyglot_notebook": {
   "kernelInfo": {
    "defaultKernelName": "csharp",
    "items": [
     {
      "aliases": [],
      "languageName": "csharp",
      "name": "csharp"
     }
    ]
   }
  }
 },
 "nbformat": 4,
 "nbformat_minor": 2
}
