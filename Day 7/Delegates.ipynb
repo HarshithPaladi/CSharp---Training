{
 "cells": [
  {
   "cell_type": "code",
   "execution_count": 1,
   "metadata": {
    "dotnet_interactive": {
     "language": "csharp"
    },
    "polyglot_notebook": {
     "kernelName": "csharp"
    }
   },
   "outputs": [],
   "source": [
    "delegate void Printer();\n",
    "        static void PrinterCorp()\n",
    "        {\n",
    "            Console.WriteLine(\"Hello\");\n",
    "        }"
   ]
  },
  {
   "cell_type": "code",
   "execution_count": 4,
   "metadata": {
    "dotnet_interactive": {
     "language": "csharp"
    },
    "polyglot_notebook": {
     "kernelName": "csharp"
    }
   },
   "outputs": [
    {
     "name": "stdout",
     "output_type": "stream",
     "text": [
      "Hello\r\n"
     ]
    }
   ],
   "source": [
    "Printer p = PrinterCorp;\n",
    "p.Invoke();"
   ]
  },
  {
   "cell_type": "code",
   "execution_count": 5,
   "metadata": {
    "dotnet_interactive": {
     "language": "csharp"
    },
    "polyglot_notebook": {
     "kernelName": "csharp"
    }
   },
   "outputs": [
    {
     "name": "stdout",
     "output_type": "stream",
     "text": [
      "Message: From BuiltIn Delegate\r\n"
     ]
    }
   ],
   "source": [
    "// Action type built-in delegate\n",
    "Action<string> ConsolingDelegate = (msg) => {  Console.WriteLine(\"Message: \"+msg); };\n",
    "ConsolingDelegate(\"From BuiltIn Delegate\");"
   ]
  },
  {
   "cell_type": "code",
   "execution_count": 8,
   "metadata": {
    "dotnet_interactive": {
     "language": "csharp"
    },
    "polyglot_notebook": {
     "kernelName": "csharp"
    }
   },
   "outputs": [
    {
     "name": "stdout",
     "output_type": "stream",
     "text": [
      "12 - HP\n",
      "HP\n"
     ]
    }
   ],
   "source": [
    "Func<int, string,string,string> d3 = (a, b,c) => {\n",
    "    string res = b+c;\n",
    "    Console.WriteLine($\"{a} - {res}\");\n",
    "    return res;\n",
    "};\n",
    "Console.WriteLine(d3(12,\"H\",\"P\"));"
   ]
  }
 ],
 "metadata": {
  "kernelspec": {
   "display_name": ".NET (C#)",
   "language": "C#",
   "name": ".net-csharp"
  },
  "language_info": {
   "name": "polyglot-notebook"
  },
  "polyglot_notebook": {
   "kernelInfo": {
    "defaultKernelName": "csharp",
    "items": [
     {
      "aliases": [],
      "languageName": "csharp",
      "name": "csharp"
     }
    ]
   }
  }
 },
 "nbformat": 4,
 "nbformat_minor": 2
}
